from tensorflow import keras
model = keras.models.load_model('Inception-V1.h5')
from PIL import Image
import numpy as np
from tensorflow.keras.preprocessing.image import img_to_array
import numpy as np
import matplotlib.pyplot as plt
from tensorflow.keras.preprocessing.image import load_img, img_to_array
import numpy as np

# Define the image path
image_path = 'input.jpeg'

# Load the image and convert it to a numpy array
image = load_img(image_path, target_size=(256, 256))
image_array = img_to_array(image)

# Reshape the image array
image_array = image_array.reshape((-1, 256, 256, 3))

# Print the shape of the reshaped image array
print('Reshaped image array shape:', image_array.shape)

from tensorflow.keras.preprocessing.image import load_img, img_to_array
import numpy as np
from tensorflow.keras.models import load_model

# Define the image path
image_path = 'coff.jpg'

# Load the image and convert it to a numpy array
image = load_img(image_path, target_size=(256, 256))
image_array = img_to_array(image)
image_array = image_array.reshape((-1, 256, 256, 3))

# Load the saved model
model = load_model('Inception-TL.h5')

# Use the model to predict the class of the image
prediction = model.predict(image_array)
predicted_class = np.argmax(prediction)

# Print the predicted class and the corresponding class name

print('Predicted class:', predicted_class)
