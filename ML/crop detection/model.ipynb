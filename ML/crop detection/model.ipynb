{
 "cells": [
  {
   "cell_type": "code",
   "execution_count": 20,
   "metadata": {},
   "outputs": [],
   "source": [
    "from tensorflow import keras\n",
    "model = keras.models.load_model('C://Users//HARITHA//Sree//FOSS Hackathon 2023//foss-hackathon//ML//fertilizer//Inception-TL.h5')"
   ]
  },
  {
   "cell_type": "code",
   "execution_count": 21,
   "metadata": {},
   "outputs": [],
   "source": [
    "from PIL import Image\n",
    "import numpy as np\n",
    "from tensorflow.keras.preprocessing.image import img_to_array\n",
    "import numpy as np\n",
    "import matplotlib.pyplot as plt\n"
   ]
  },
  {
   "cell_type": "code",
   "execution_count": 22,
   "metadata": {},
   "outputs": [
    {
     "name": "stdout",
     "output_type": "stream",
     "text": [
      "Reshaped image array shape: (1, 256, 256, 3)\n"
     ]
    }
   ],
   "source": [
    "from tensorflow.keras.preprocessing.image import load_img, img_to_array\n",
    "import numpy as np\n",
    "\n",
    "# Define the image path\n",
    "image_path = 'C://Users//HARITHA//Sree//FOSS Hackathon 2023//foss-hackathon//ML//fertilizer//coff.jpg'\n",
    "\n",
    "# Load the image and convert it to a numpy array\n",
    "image = load_img(image_path, target_size=(256, 256))\n",
    "image_array = img_to_array(image)\n",
    "\n",
    "# Reshape the image array\n",
    "image_array = image_array.reshape((-1, 256, 256, 3))\n",
    "\n",
    "# Print the shape of the reshaped image array\n",
    "print('Reshaped image array shape:', image_array.shape)\n",
    "\n"
   ]
  },
  {
   "cell_type": "code",
   "execution_count": 2,
   "metadata": {},
   "outputs": [
    {
     "name": "stdout",
     "output_type": "stream",
     "text": [
      "1/1 [==============================] - 5s 5s/step\n",
      "Predicted class: 14\n"
     ]
    }
   ],
   "source": [
    "from tensorflow.keras.preprocessing.image import load_img, img_to_array\n",
    "import numpy as np\n",
    "from tensorflow.keras.models import load_model\n",
    "\n",
    "# Define the image path\n",
    "image_path = 'C://Users//HARITHA//Sree//FOSS Hackathon 2023//foss-hackathon//ML//fertilizer//coff.jpg'\n",
    "\n",
    "# Load the image and convert it to a numpy array\n",
    "image = load_img(image_path, target_size=(256, 256))\n",
    "image_array = img_to_array(image)\n",
    "image_array = image_array.reshape((-1, 256, 256, 3))\n",
    "\n",
    "# Load the saved model\n",
    "model = load_model('C://Users//HARITHA//Sree//FOSS Hackathon 2023//foss-hackathon//ML//fertilizer//Inception-TL.h5')\n",
    "\n",
    "# Use the model to predict the class of the image\n",
    "prediction = model.predict(image_array)\n",
    "predicted_class = np.argmax(prediction)\n",
    "\n",
    "# Print the predicted class and the corresponding class name\n",
    "\n",
    "print('Predicted class:', predicted_class)"
   ]
  },
  {
   "cell_type": "code",
   "execution_count": null,
   "metadata": {},
   "outputs": [],
   "source": []
  }
 ],
 "metadata": {
  "kernelspec": {
   "display_name": "Python 3",
   "language": "python",
   "name": "python3"
  },
  "language_info": {
   "codemirror_mode": {
    "name": "ipython",
    "version": 3
   },
   "file_extension": ".py",
   "mimetype": "text/x-python",
   "name": "python",
   "nbconvert_exporter": "python",
   "pygments_lexer": "ipython3",
   "version": "3.11.0"
  },
  "orig_nbformat": 4,
  "vscode": {
   "interpreter": {
    "hash": "916dbcbb3f70747c44a77c7bcd40155683ae19c65e1c03b4aa3499c5328201f1"
   }
  }
 },
 "nbformat": 4,
 "nbformat_minor": 2
}
